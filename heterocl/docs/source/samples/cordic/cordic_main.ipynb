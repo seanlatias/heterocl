{
  "cells": [
    {
      "cell_type": "code",
      "execution_count": null,
      "metadata": {
        "collapsed": false
      },
      "outputs": [],
      "source": [
        "%matplotlib inline"
      ]
    },
    {
      "cell_type": "markdown",
      "metadata": {},
      "source": [
        "\nHeteroCL Tutorial : CORDIC Design\n=================================\n\n**Author**: Yi-Hsiang Lai (seanlatias@github)\n\nCOordinate Rotation DIgital Computer (CORDIC) is a method for calculating a\nvariety of functions including trigonometric and hyperbolic. The various\nfunctions are calculated through an iterative set of vector rotations. At the\nend of these rotations, the value of the function is easily determined from\nthe (x, y) coordinate. A CORDIC is often used to achieve low-cost\nmultiplierless sine/cosine implementations in FPGA as well as ASIC designs.\n\nIn this tutorial, we demonstrate how to make use of the decoupled quantization\nschemes and algorithms in HeteroCL. We also show how we can explore different\nquantization schemes with the quantize API.\n"
      ]
    },
    {
      "cell_type": "code",
      "execution_count": null,
      "metadata": {
        "collapsed": false
      },
      "outputs": [],
      "source": [
        "# Import modules and set constants.\nimport heterocl as hcl\nimport numpy as np\nimport math\nimport os\n\ncordic_ctab = [\n        0.78539816339744828000,0.46364760900080609000,0.24497866312686414000,\n        0.12435499454676144000,0.06241880999595735000,0.03123983343026827700,\n        0.01562372862047683100,0.00781234106010111110,0.00390623013196697180,\n        0.00195312251647881880,0.00097656218955931946,0.00048828121119489829,\n        0.00024414062014936177,0.00012207031189367021,0.00006103515617420877,\n        0.00003051757811552610,0.00001525878906131576,0.00000762939453110197,\n        0.00000381469726560650,0.00000190734863281019,0.00000095367431640596,\n        0.00000047683715820309,0.00000023841857910156,0.00000011920928955078,\n        0.00000005960464477539,0.00000002980232238770,0.00000001490116119385,\n        0.00000000745058059692,0.00000000372529029846,0.00000000186264514923,\n        0.00000000093132257462,0.00000000046566128731,0.00000000023283064365,\n        0.00000000011641532183,0.00000000005820766091,0.00000000002910383046,\n        0.00000000001455191523,0.00000000000727595761,0.00000000000363797881,\n        0.00000000000181898940,0.00000000000090949470,0.00000000000045474735,\n        0.00000000000022737368,0.00000000000011368684,0.00000000000005684342,\n        0.00000000000002842171,0.00000000000001421085,0.00000000000000710543,\n        0.00000000000000355271,0.00000000000000177636,0.00000000000000088818,\n        0.00000000000000044409,0.00000000000000022204,0.00000000000000011102,\n        0.00000000000000005551,0.00000000000000002776,0.00000000000000001388,\n        0.00000000000000000694,0.00000000000000000347,0.00000000000000000173,\n        0.00000000000000000087,0.00000000000000000043,0.00000000000000000022]\n\nK_const = 0.6072529350088812561694"
      ]
    },
    {
      "cell_type": "markdown",
      "metadata": {},
      "source": [
        "Main Algorithm\n==============\nWe let the data type be the input argument of our top function. This is how\nwe can set different quantization schemes.\n\n"
      ]
    },
    {
      "cell_type": "code",
      "execution_count": null,
      "metadata": {
        "collapsed": false
      },
      "outputs": [],
      "source": [
        "def cordic(X, Y, C, theta, N):\n\n    # Prepare all input values and intermediate variables.\n    T = hcl.compute((1,), lambda x: 0, \"T\", X.dtype)\n    current = hcl.compute((1,), lambda x: 0, \"current\", X.dtype)\n\n    # Main loop body: The more steps we iterate, the better accuracy we get.\n    def step_loop(step):\n        with hcl.if_(theta[0] > current[0]):\n            T[0] = X[0] - (Y[0] >> step)\n            Y[0] = Y[0] + (X[0] >> step)\n            X[0] = T[0]\n            current[0] = current[0] + C[step]\n        with hcl.else_():\n            T[0] = X[0] + (Y[0] >> step)\n            Y[0] = Y[0] - (X[0] >> step)\n            X[0] = T[0]\n            current[0] = current[0] - C[step]\n\n    # This is the main computation that calls the loop body.\n    hcl.mutate((N,), lambda step: step_loop(step), \"calc\")"
      ]
    },
    {
      "cell_type": "markdown",
      "metadata": {},
      "source": [
        "Test with Different Data Types\n==============================\n\nSet the range of the angle we want to test and set the number of iterations.\n\n"
      ]
    },
    {
      "cell_type": "code",
      "execution_count": null,
      "metadata": {
        "collapsed": false
      },
      "outputs": [],
      "source": [
        "NUM = 90\n_N = 60\nfrom cordic_golden import golden"
      ]
    },
    {
      "cell_type": "markdown",
      "metadata": {},
      "source": [
        "Loop through different bit-widths.\n\n"
      ]
    },
    {
      "cell_type": "code",
      "execution_count": null,
      "metadata": {
        "collapsed": false
      },
      "outputs": [],
      "source": [
        "for b in range(2, 64, 4):\n\n    dtype = hcl.Fixed(b, b-2)\n    hcl.init(dtype)\n\n    X = hcl.placeholder((1,), \"X\")\n    Y = hcl.placeholder((1,), \"Y\")\n    C = hcl.placeholder((63,), \"cordic_ctab\")\n    theta = hcl.placeholder((1,), \"theta\")\n    N = hcl.placeholder((), \"N\", hcl.Int(32))\n\n    s = hcl.create_schedule([X, Y, C, theta, N], cordic)\n    f = hcl.build(s)\n\n    acc_err_sin = 0.0\n    acc_err_cos = 0.0\n\n    # Loop for testing different angles.\n    for d in range(1, NUM):\n\n        _d = math.radians(d)\n        ms = math.sin(_d)\n        mc = math.cos(_d)\n\n        _X = hcl.asarray(np.array([K_const]))\n        _Y = hcl.asarray(np.array([0]))\n        _C = hcl.asarray(np.array(cordic_ctab))\n        _theta = hcl.asarray(np.array([_d]))\n\n        f(_X, _Y, _C, _theta, _N)\n\n        _X = _X.asnumpy()\n        _Y = _Y.asnumpy()\n\n        # We calculate the RMS error.\n        err_ratio_sin = math.fabs((ms - _Y[0])/ms) * 100\n        err_ratio_cos = math.fabs((mc - _X[0])/mc) * 100\n\n        acc_err_sin += err_ratio_sin * err_ratio_sin\n        acc_err_cos += err_ratio_cos * err_ratio_cos\n\n    str_err_sin = str(math.sqrt(acc_err_sin/(NUM-1)))\n    str_err_cos = str(math.sqrt(acc_err_cos/(NUM-1)))\n    print(str(dtype) + \": \" + str_err_sin + \" \" + str_err_cos)\n\n    index = (b-2) // 4\n    assert np.allclose(float(str_err_sin), golden[index][0])\n    assert np.allclose(float(str_err_cos), golden[index][1])"
      ]
    }
  ],
  "metadata": {
    "kernelspec": {
      "display_name": "Python 3",
      "language": "python",
      "name": "python3"
    },
    "language_info": {
      "codemirror_mode": {
        "name": "ipython",
        "version": 3
      },
      "file_extension": ".py",
      "mimetype": "text/x-python",
      "name": "python",
      "nbconvert_exporter": "python",
      "pygments_lexer": "ipython3",
      "version": "3.7.1"
    }
  },
  "nbformat": 4,
  "nbformat_minor": 0
}