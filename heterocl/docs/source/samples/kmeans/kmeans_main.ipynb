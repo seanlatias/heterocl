{
  "cells": [
    {
      "cell_type": "code",
      "execution_count": null,
      "metadata": {
        "collapsed": false
      },
      "outputs": [],
      "source": [
        "%matplotlib inline"
      ]
    },
    {
      "cell_type": "markdown",
      "metadata": {},
      "source": [
        "\nHeteroCL Tutorial : K-means Clustering Algorithm\n================================================\n\n**Author**: Yi-Hsiang Lai (seanlatias@github), Ziyan Feng\n\nThis is the K-means clustering algorithm written in Heterocl.\n"
      ]
    },
    {
      "cell_type": "code",
      "execution_count": null,
      "metadata": {
        "collapsed": false
      },
      "outputs": [],
      "source": [
        "import numpy as np\nimport heterocl as hcl\nimport time\nimport random"
      ]
    },
    {
      "cell_type": "markdown",
      "metadata": {},
      "source": [
        "Define the number of the clustering means as K, the number of points as N,\nthe number of dimensions as dim, and the number of iterations as niter\n\n"
      ]
    },
    {
      "cell_type": "code",
      "execution_count": null,
      "metadata": {
        "collapsed": false
      },
      "outputs": [],
      "source": [
        "K = 16\nN = 320\ndim = 32\nniter = 200\n\nhcl.init()"
      ]
    },
    {
      "cell_type": "markdown",
      "metadata": {},
      "source": [
        "Main Algorithm\n==============\n\n"
      ]
    },
    {
      "cell_type": "code",
      "execution_count": null,
      "metadata": {
        "collapsed": false
      },
      "outputs": [],
      "source": [
        "def top(target=None):\n    points = hcl.placeholder((N, dim))\n    means = hcl.placeholder((K, dim))\n\n    def kmeans(points, means):\n        def loop_kernel(labels):\n            # assign cluster\n            with hcl.for_(0, N, name=\"N\") as n:\n                min_dist = hcl.local(100000)\n                with hcl.for_(0, K) as k:\n                    dist = hcl.local(0)\n                    with hcl.for_(0, dim) as d:\n                        dist_ = points[n, d]-means[k, d]\n                        dist[0] += dist_ * dist_\n                    with hcl.if_(dist[0] < min_dist[0]):\n                        min_dist[0] = dist[0]\n                        labels[n] = k\n            # update mean\n            num_k = hcl.compute((K,), lambda x: 0)\n            sum_k = hcl.compute((K, dim), lambda x, y: 0)\n            def calc_sum(n):\n                num_k[labels[n]] += 1\n                with hcl.for_(0, dim) as d:\n                    sum_k[labels[n], d] += points[n, d]\n            hcl.mutate((N,), lambda n: calc_sum(n), \"calc_sum\")\n            hcl.update(means,\n                    lambda k, d: sum_k[k, d]//num_k[k], \"update_mean\")\n\n        labels = hcl.compute((N,), lambda x: 0)\n        hcl.mutate((niter,), lambda _: loop_kernel(labels), \"main_loop\")\n        return labels\n\n    # create schedule and apply compute customization\n    s = hcl.create_schedule([points, means], kmeans)\n    main_loop = kmeans.main_loop\n    update_mean = main_loop.update_mean\n    s[main_loop].pipeline(main_loop.N)\n    s[main_loop.calc_sum].unroll(main_loop.calc_sum.axis[0])\n    fused = s[update_mean].fuse(update_mean.axis[0], update_mean.axis[1])\n    s[update_mean].unroll(fused)\n    return hcl.build(s, target=target)\n\nf = top()\n\npoints_np = np.random.randint(100, size=(N, dim))\nlabels_np = np.zeros(N)\nmeans_np = points_np[random.sample(range(N), K), :]\n\nhcl_points = hcl.asarray(points_np, dtype=hcl.Int())\nhcl_means = hcl.asarray(means_np, dtype=hcl.Int())\nhcl_labels = hcl.asarray(labels_np)\n\nstart = time.time()\nf(hcl_points, hcl_means, hcl_labels)\ntotal_time = time.time() - start\nprint(\"Kernel time (s): {:.2f}\".format(total_time))\n\nprint(\"All points:\")\nprint(hcl_points)\nprint(\"Final cluster:\")\nprint(hcl_labels)\nprint(\"The means:\")\nprint(hcl_means)\n\nfrom kmeans_golden import kmeans_golden\nkmeans_golden(niter, K, N, dim, np.concatenate((points_np,\n    np.expand_dims(labels_np, axis=1)), axis=1), means_np)\nassert np.allclose(hcl_means.asnumpy(), means_np)"
      ]
    }
  ],
  "metadata": {
    "kernelspec": {
      "display_name": "Python 3",
      "language": "python",
      "name": "python3"
    },
    "language_info": {
      "codemirror_mode": {
        "name": "ipython",
        "version": 3
      },
      "file_extension": ".py",
      "mimetype": "text/x-python",
      "name": "python",
      "nbconvert_exporter": "python",
      "pygments_lexer": "ipython3",
      "version": "3.7.1"
    }
  },
  "nbformat": 4,
  "nbformat_minor": 0
}