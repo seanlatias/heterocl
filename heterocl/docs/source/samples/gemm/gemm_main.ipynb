{
  "cells": [
    {
      "cell_type": "code",
      "execution_count": null,
      "metadata": {
        "collapsed": false
      },
      "outputs": [],
      "source": [
        "%matplotlib inline"
      ]
    },
    {
      "cell_type": "markdown",
      "metadata": {},
      "source": [
        "\nHeteroCL Tutorial : General Matrix Multiplication\n=================================================\n\n**Author**: Yi-Hsiang Lai (seanlatias@github), Jie Wang\n"
      ]
    },
    {
      "cell_type": "code",
      "execution_count": null,
      "metadata": {
        "collapsed": false
      },
      "outputs": [],
      "source": [
        "import heterocl as hcl\nimport numpy as np\nimport time\n\ndef gemm(m=1024, n=1024, k=1024, dtype=hcl.Int(), target=None):\n    matrix_1 = hcl.placeholder((m, k), dtype=dtype)\n    matrix_2 = hcl.placeholder((k, n), dtype=dtype)\n\n    def kernel(matrix_1, matrix_2):\n        r = hcl.reduce_axis(0, k, 'k')\n        return hcl.compute((m, n),\n                lambda x, y: hcl.sum(matrix_1[x, r] * matrix_2[r, y],\n                                     axis=r, dtype=dtype),\n                dtype=dtype,\n                name=\"out_matrix\")\n\n    s = hcl.create_schedule([matrix_1, matrix_2], kernel)\n    out_matrix = kernel.out_matrix\n    block_size = 8\n    y0, y1 = s[out_matrix].split(out_matrix.axis[0], factor=block_size)\n    x0, x1 = s[out_matrix].split(out_matrix.axis[1], factor=block_size)\n    s[out_matrix].reorder(y0, x0, y1, x1)\n\n    f = hcl.build(s, target=target)\n    return f\n\ndef time_gemm(dtype, m=1024, n=1024, k=1024, target=None):\n    hcl.init(dtype)\n    f = gemm(m, n, k, dtype, target)\n    np_1 = np.random.randint(10, size=(m, k))\n    np_2 = np.random.randint(10, size=(k, n))\n    np_3 = np.matmul(np_1, np_2)\n\n    hcl_m1 = hcl.asarray(np_1, dtype=dtype)\n    hcl_m2 = hcl.asarray(np_2, dtype=dtype)\n    hcl_m3 = hcl.asarray(np.zeros((m, n)), dtype=dtype)\n    f(hcl_m1, hcl_m2, hcl_m3)\n    begin = time.time()\n    for i in range(10):\n        f(hcl_m1, hcl_m2, hcl_m3)\n    end = time.time()\n    print(\"dtype is: \", dtype)\n    print(\"average of 10 runs takes: {} sec\".format((end - begin) / 10))\n    np.testing.assert_allclose(hcl_m3.asnumpy(), np_3, rtol=1e-03)"
      ]
    },
    {
      "cell_type": "markdown",
      "metadata": {},
      "source": [
        "Test the algorithm with different data types\n\n"
      ]
    },
    {
      "cell_type": "code",
      "execution_count": null,
      "metadata": {
        "collapsed": false
      },
      "outputs": [],
      "source": [
        "dtypes = [hcl.Int(32), hcl.Float(), hcl.Fixed(32, 16)]\nfor dtype in dtypes:\n    time_gemm(dtype)"
      ]
    }
  ],
  "metadata": {
    "kernelspec": {
      "display_name": "Python 3",
      "language": "python",
      "name": "python3"
    },
    "language_info": {
      "codemirror_mode": {
        "name": "ipython",
        "version": 3
      },
      "file_extension": ".py",
      "mimetype": "text/x-python",
      "name": "python",
      "nbconvert_exporter": "python",
      "pygments_lexer": "ipython3",
      "version": "3.7.1"
    }
  },
  "nbformat": 4,
  "nbformat_minor": 0
}