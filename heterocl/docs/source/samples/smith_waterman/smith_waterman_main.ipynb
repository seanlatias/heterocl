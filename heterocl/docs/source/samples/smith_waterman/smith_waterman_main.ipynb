{
  "cells": [
    {
      "cell_type": "code",
      "execution_count": null,
      "metadata": {
        "collapsed": false
      },
      "outputs": [],
      "source": [
        "%matplotlib inline"
      ]
    },
    {
      "cell_type": "markdown",
      "metadata": {},
      "source": [
        "\nHeteroCL Tutorial : Smith-Waterman Genomic Sequencing\n=====================================================\n\n**Author**: Yi-Hsiang Lai (seanlatias@github)\n\nIn this example, we demonstrate how to use a While loop in HeteroCL.\n"
      ]
    },
    {
      "cell_type": "code",
      "execution_count": null,
      "metadata": {
        "collapsed": false
      },
      "outputs": [],
      "source": [
        "import heterocl as hcl\nimport numpy as np\nimport time\n\nlenA = 128\nlenB = 128\nnum = 1024\npenalty = -4\n\nhcl.init()\ndtype = hcl.UFixed(3)\nmtype = hcl.Int(16)\n\ndef top(target=None):\n\n    def smith_waterman(seqA, seqB, consA, consB):\n\n        def similarity_score(a, b):\n            return hcl.select(a == b, 1, penalty)\n\n        def find_max(A, len_):\n            max_ = hcl.local(A[0], \"max\")\n            act_ = hcl.local(0, \"act\")\n            with hcl.for_(0, len_) as i:\n                with hcl.if_(A[i] > max_[0]):\n                    max_[0] = A[i]\n                    act_[0] = i\n            return max_[0], act_[0]\n\n        matrix_max = hcl.local(0, \"maxtrix_max\")\n        i_max = hcl.local(0, \"i_max\")\n        j_max = hcl.local(0, \"j_max\")\n\n        matrix = hcl.compute((lenA + 1, lenB + 1), lambda x, y: 0, \"matrix\")\n        action = hcl.compute(matrix.shape, lambda x, y: 3, \"action\")\n\n        def populate_matrix(i, j):\n            trace_back = hcl.compute((4,), lambda x: 0, \"trace_back\")\n\n            with hcl.if_(hcl.and_(i != 0, j != 0)):\n                trace_back[0] = matrix[i-1, j-1] + \\\n                                similarity_score(seqA[i-1], seqB[j-1])\n                trace_back[1] = matrix[i-1, j] + penalty\n                trace_back[2] = matrix[i, j-1] + penalty\n                trace_back[3] = 0\n                matrix[i, j], action[i, j] = find_max(trace_back, 4)\n                with hcl.if_(matrix[i, j] > matrix_max[0]):\n                    matrix_max[0] = matrix[i, j]\n                    i_max[0] = i\n                    j_max[0] = j\n\n        P = hcl.mutate((lenA+1, lenB+1), lambda i, j: populate_matrix(i, j))\n\n        def align(curr_i, curr_j, next_i, next_j):\n            outA = hcl.local(0, \"a\")\n            outB = hcl.local(0, \"b\")\n\n            with hcl.if_(next_i[0] == curr_i[0]):\n                outA[0] = 0\n            with hcl.else_():\n                outA[0] = seqA[curr_i[0] - 1]\n\n            with hcl.if_(next_j[0] == curr_j[0]):\n                outB[0] = 0\n            with hcl.else_():\n                outB[0] = seqB[curr_j[0] - 1]\n            return outA[0], outB[0]\n\n        def get_next(action, i, j):\n            act_ = hcl.local(action[i][j], \"act\")\n            next_i = hcl.local(0, \"next_i\")\n            next_j = hcl.local(0, \"next_j\")\n            with hcl.if_(act_[0] == 0):\n                next_i[0] = i - 1\n                next_j[0] = j - 1\n            with hcl.elif_(act_[0] == 1):\n                next_i[0] = i - 1\n                next_j[0] = j\n            with hcl.elif_(act_[0] == 2):\n                next_i[0] = i\n                next_j[0] = j - 1\n            with hcl.else_():\n                next_i[0] = i\n                next_j[0] = j\n            return next_i[0], next_j[0]\n\n        with hcl.Stage(\"T\"):\n            curr_i = hcl.local(i_max[0], \"curr_i\")\n            curr_j = hcl.local(j_max[0], \"curr_j\")\n            next_i = hcl.local(0, \"next_i\")\n            next_j = hcl.local(0, \"next_j\")\n            next_i[0], next_j[0] = get_next(action, curr_i[0], curr_j[0])\n            tick = hcl.local(0, \"tick\")\n\n            with hcl.while_(hcl.or_(curr_i[0] != next_i[0],\n                                    curr_j[0] != next_j[0])):\n                consA[tick[0]], consB[tick[0]] = \\\n                    align(curr_i, curr_j, next_i, next_j)\n                curr_i[0], curr_j[0] = next_i[0], next_j[0]\n                next_i[0], next_j[0] = get_next(action, curr_i[0], curr_j[0])\n                tick[0] += 1\n\n    def batch_sw(seqAs, seqBs, outAs, outBs):\n        hcl.mutate((num,),\n                lambda t: smith_waterman(seqAs[t], seqBs[t], outAs[t], outBs[t]),\n                \"B\")\n\n    seqAs = hcl.placeholder((num, lenA), \"seqAs\", dtype)\n    seqBs = hcl.placeholder((num, lenB,), \"seqBs\", dtype)\n    outAs = hcl.placeholder((num, lenA+lenB), \"outAs\", dtype)\n    outBs = hcl.placeholder((num, lenA+lenB), \"outBs\", dtype)\n\n    scheme = hcl.create_scheme([seqAs, seqBs, outAs, outBs], batch_sw)\n    scheme.downsize([batch_sw.B.matrix, batch_sw.B.action], mtype)\n    s = hcl.create_schedule_from_scheme(scheme)\n    o, p = s[batch_sw.B].split(batch_sw.B.axis[0], factor=32)\n    s[batch_sw.B].pipeline(o)\n    s[batch_sw.B].parallel(p)\n    return hcl.build(s, target=target)"
      ]
    },
    {
      "cell_type": "markdown",
      "metadata": {},
      "source": [
        "Test the algorithm with random numbers\n\n"
      ]
    },
    {
      "cell_type": "code",
      "execution_count": null,
      "metadata": {
        "collapsed": false
      },
      "outputs": [],
      "source": [
        "_seqA = hcl.asarray(np.random.randint(1, 5, size=(num, lenA)), dtype)\n_seqB = hcl.asarray(np.random.randint(1, 5, size=(num, lenB)), dtype)\n_consA = hcl.asarray(np.zeros((num, (lenA + lenB))), dtype)\n_consB = hcl.asarray(np.zeros((num, (lenA + lenB))), dtype)\n\nf = top()\nstart = time.time()\nf(_seqA, _seqB, _consA, _consB)\ntotal_time = time.time() - start\nprint(\"Kernel time (s): {:.2f}\".format(total_time))"
      ]
    },
    {
      "cell_type": "markdown",
      "metadata": {},
      "source": [
        "Test the algorithm with simple inputs\n\n"
      ]
    },
    {
      "cell_type": "code",
      "execution_count": null,
      "metadata": {
        "collapsed": false
      },
      "outputs": [],
      "source": [
        "_seqA_np = np.ones((num, lenA))\nfor i in range(0, 4):\n    _seqA_np[0][i] = 2\n_seqB_np = np.ones((num, lenB))\n_seqA = hcl.asarray(_seqA_np, dtype)\n_seqB = hcl.asarray(_seqB_np, dtype)\n_consA = hcl.asarray(np.zeros((num, (lenA + lenB))), dtype)\n_consB = hcl.asarray(np.zeros((num, (lenA + lenB))), dtype)\nf(_seqA, _seqB, _consA, _consB)\n_consA_np = _consA.asnumpy()\n_consB_np = _consB.asnumpy()\nfor i in range(0, 256):\n    if i < 124:\n        assert _consA_np[0][i] == 1\n    else:\n        assert _consA_np[0][i] == 0"
      ]
    }
  ],
  "metadata": {
    "kernelspec": {
      "display_name": "Python 3",
      "language": "python",
      "name": "python3"
    },
    "language_info": {
      "codemirror_mode": {
        "name": "ipython",
        "version": 3
      },
      "file_extension": ".py",
      "mimetype": "text/x-python",
      "name": "python",
      "nbconvert_exporter": "python",
      "pygments_lexer": "ipython3",
      "version": "3.7.1"
    }
  },
  "nbformat": 4,
  "nbformat_minor": 0
}